{
 "cells": [
  {
   "cell_type": "code",
   "execution_count": 1,
   "id": "806f5b15",
   "metadata": {},
   "outputs": [],
   "source": [
    "from flask import Flask, jsonify, request\n",
    "from langchain.utilities import SQLDatabase\n",
    "from langchain.llms import OpenAI\n",
    "from langchain_experimental.sql import SQLDatabaseChain\n",
    "from langchain.prompts.chat import HumanMessagePromptTemplate\n",
    "from langchain.chat_models import ChatOpenAI\n",
    "from langchain.schema import SystemMessage"
   ]
  },
  {
   "cell_type": "code",
   "execution_count": null,
   "id": "d35f40d5",
   "metadata": {},
   "outputs": [
    {
     "name": "stderr",
     "output_type": "stream",
     "text": [
      "C:\\Users\\NISHITHA SAI\\anaconda3\\lib\\site-packages\\langchain_core\\_api\\deprecation.py:119: LangChainDeprecationWarning: The class `ChatOpenAI` was deprecated in LangChain 0.0.10 and will be removed in 0.3.0. An updated version of the class exists in the langchain-openai package and should be used instead. To use it run `pip install -U langchain-openai` and import as `from langchain_openai import ChatOpenAI`.\n",
      "  warn_deprecated(\n"
     ]
    },
    {
     "name": "stdout",
     "output_type": "stream",
     "text": [
      " * Serving Flask app \"__main__\" (lazy loading)\n",
      " * Environment: production\n",
      "\u001b[31m   WARNING: This is a development server. Do not use it in a production deployment.\u001b[0m\n",
      "\u001b[2m   Use a production WSGI server instead.\u001b[0m\n",
      " * Debug mode: off\n"
     ]
    },
    {
     "name": "stderr",
     "output_type": "stream",
     "text": [
      " * Running on http://127.0.0.1:5000/ (Press CTRL+C to quit)\n",
      "127.0.0.1 - - [19/Jun/2024 22:02:55] \"GET /api/query/?q=hi HTTP/1.1\" 200 -\n",
      "C:\\Users\\NISHITHA SAI\\anaconda3\\lib\\site-packages\\langchain_core\\_api\\deprecation.py:119: LangChainDeprecationWarning: The method `Chain.__call__` was deprecated in langchain 0.1.0 and will be removed in 0.3.0. Use invoke instead.\n",
      "  warn_deprecated(\n"
     ]
    },
    {
     "name": "stdout",
     "output_type": "stream",
     "text": [
      "\n",
      "\n",
      "\u001b[1m> Entering new SQLDatabaseChain chain...\u001b[0m\n",
      "Give top 10 loan eligibility people list in total databsae\n",
      "SQLQuery:\u001b[32;1m\u001b[1;3mSELECT `Id`, `Income`, `Age`, `Experience`, `Married/Single`, `House_Ownership`, `Car_Ownership`, `Profession`, `CITY`, `STATE`, `CURRENT_JOB_YRS`, `CURRENT_HOUSE_YRS`, `Risk_Flag`\n",
      "FROM data_\n",
      "ORDER BY `Income` DESC\n",
      "LIMIT 10;\u001b[0m\n",
      "SQLResult: \u001b[33;1m\u001b[1;3m[(48740, 9999180, 22, 0, 'single', 'rented', 'no', 'Drafter', 'Bhavnagar', 'Gujarat', 0, 11, 0), (16395, 9999180, 22, 0, 'single', 'rented', 'no', 'Drafter', 'Bhavnagar', 'Gujarat', 0, 11, 0), (64996, 9999180, 22, 0, 'single', 'rented', 'no', 'Drafter', 'Bhavnagar', 'Gujarat', 0, 11, 0), (37937, 9999180, 22, 0, 'single', 'rented', 'no', 'Drafter', 'Bhavnagar', 'Gujarat', 0, 11, 0), (232, 9999180, 22, 0, 'single', 'rented', 'no', 'Drafter', 'Bhavnagar', 'Gujarat', 0, 11, 0), (54165, 9999180, 22, 0, 'single', 'rented', 'no', 'Drafter', 'Bhavnagar', 'Gujarat', 0, 11, 0), (32545, 9999180, 22, 0, 'single', 'rented', 'no', 'Drafter', 'Bhavnagar', 'Gujarat', 0, 11, 0), (59575, 9999180, 22, 0, 'single', 'rented', 'no', 'Drafter', 'Bhavnagar', 'Gujarat', 0, 11, 0), (10981, 9999180, 22, 0, 'single', 'rented', 'no', 'Drafter', 'Bhavnagar', 'Gujarat', 0, 11, 0), (21755, 9999180, 22, 0, 'single', 'rented', 'no', 'Drafter', 'Bhavnagar', 'Gujarat', 0, 11, 0)]\u001b[0m\n",
      "Answer:\u001b[32;1m\u001b[1;3mThe top 10 loan eligibility people list in the total database are as follows:\n",
      "1. Id: 48740, Income: 9999180, Age: 22, Experience: 0, Marital Status: single, House Ownership: rented, Car Ownership: no, Profession: Drafter, City: Bhavnagar, State: Gujarat, Current Job Years: 0, Current House Years: 11, Risk Flag: 0\n",
      "2. Id: 16395, Income: 9999180, Age: 22, Experience: 0, Marital Status: single, House Ownership: rented, Car Ownership: no, Profession: Drafter, City: Bhavnagar, State: Gujarat, Current Job Years: 0, Current House Years: 11, Risk Flag: 0\n",
      "3. Id: 64996, Income: 9999180, Age: 22, Experience: 0, Marital Status: single, House Ownership: rented, Car Ownership: no, Profession: Drafter, City: Bhavnagar, State: Gujarat, Current Job Years: 0, Current House Years: 11, Risk Flag: 0\n",
      "4. Id: 37937, Income: 9999180, Age: 22, Experience: 0, Marital Status: single, House Ownership: rented, Car Ownership: no, Profession: Drafter, City: Bhavnagar, State: Gujarat, Current Job Years: 0, Current House Years: 11, Risk Flag: 0\n",
      "5. Id: 232, Income: 9999180, Age: 22, Experience: 0, Marital Status: single, House Ownership: rented, Car Ownership: no, Profession: Drafter, City: Bhavnagar, State: Gujarat, Current Job Years: 0, Current House Years: 11, Risk Flag: 0\u001b[0m\n",
      "\u001b[1m> Finished chain.\u001b[0m\n",
      "Debug: SQL Query Result - The top 10 loan eligibility people list in the total database are as follows:\n",
      "1. Id: 48740, Income: 9999180, Age: 22, Experience: 0, Marital Status: single, House Ownership: rented, Car Ownership: no, Profession: Drafter, City: Bhavnagar, State: Gujarat, Current Job Years: 0, Current House Years: 11, Risk Flag: 0\n",
      "2. Id: 16395, Income: 9999180, Age: 22, Experience: 0, Marital Status: single, House Ownership: rented, Car Ownership: no, Profession: Drafter, City: Bhavnagar, State: Gujarat, Current Job Years: 0, Current House Years: 11, Risk Flag: 0\n",
      "3. Id: 64996, Income: 9999180, Age: 22, Experience: 0, Marital Status: single, House Ownership: rented, Car Ownership: no, Profession: Drafter, City: Bhavnagar, State: Gujarat, Current Job Years: 0, Current House Years: 11, Risk Flag: 0\n",
      "4. Id: 37937, Income: 9999180, Age: 22, Experience: 0, Marital Status: single, House Ownership: rented, Car Ownership: no, Profession: Drafter, City: Bhavnagar, State: Gujarat, Current Job Years: 0, Current House Years: 11, Risk Flag: 0\n",
      "5. Id: 232, Income: 9999180, Age: 22, Experience: 0, Marital Status: single, House Ownership: rented, Car Ownership: no, Profession: Drafter, City: Bhavnagar, State: Gujarat, Current Job Years: 0, Current House Years: 11, Risk Flag: 0\n"
     ]
    },
    {
     "name": "stderr",
     "output_type": "stream",
     "text": [
      "C:\\Users\\NISHITHA SAI\\anaconda3\\lib\\site-packages\\langchain_core\\_api\\deprecation.py:119: LangChainDeprecationWarning: The method `BaseChatModel.__call__` was deprecated in langchain-core 0.1.7 and will be removed in 0.3.0. Use invoke instead.\n",
      "  warn_deprecated(\n",
      "127.0.0.1 - - [19/Jun/2024 22:10:37] \"GET /api/query/?q=Give+top+10+loan+eligibility+people+list+in+total+databsae HTTP/1.1\" 200 -\n"
     ]
    },
    {
     "name": "stdout",
     "output_type": "stream",
     "text": [
      "Debug: LLM Response - The top 10 loan eligibility people in the database are as follows:\n",
      "1. Id: 48740, Income: 9999180, Age: 22, Experience: 0, Marital Status: single, House Ownership: rented, Car Ownership: no, Profession: Drafter, City: Bhavnagar, State: Gujarat, Current Job Years: 0, Current House Years: 11, Risk Flag: 0\n",
      "2. Id: 16395, Income: 9999180, Age: 22, Experience: 0, Marital Status: single, House Ownership: rented, Car Ownership: no, Profession: Drafter, City: Bhavnagar, State: Gujarat, Current Job Years: 0, Current House Years: 11, Risk Flag: 0\n",
      "3. Id: 64996, Income: 9999180, Age: 22, Experience: 0, Marital Status: single, House Ownership: rented, Car Ownership: no, Profession: Drafter, City: Bhavnagar, State: Gujarat, Current Job Years: 0, Current House Years: 11, Risk Flag: 0\n",
      "4. Id: 37937, Income: 9999180, Age: 22, Experience: 0, Marital Status: single, House Ownership: rented, Car Ownership: no, Profession: Drafter, City: Bhavnagar, State: Gujarat, Current Job Years: 0, Current House Years: 11, Risk Flag: 0\n",
      "5. Id: 232, Income: 9999180, Age: 22, Experience: 0, Marital Status: single, House Ownership: rented, Car Ownership: no, Profession: Drafter, City: Bhavnagar, State: Gujarat, Current Job Years: 0, Current House Years: 11, Risk Flag: 0\n"
     ]
    }
   ],
   "source": [
    "from flask import Flask, jsonify, request\n",
    "from langchain.utilities import SQLDatabase\n",
    "from langchain.llms import OpenAI\n",
    "from langchain_experimental.sql import SQLDatabaseChain\n",
    "from langchain.prompts.chat import HumanMessagePromptTemplate\n",
    "from langchain.chat_models import ChatOpenAI\n",
    "from langchain.schema import SystemMessage\n",
    "from flask_cors import CORS, cross_origin\n",
    "\n",
    "\n",
    "# Initialize the OpenAI API key and LLM model\n",
    "OPENAI_API_KEY = ' '\n",
    "llm = ChatOpenAI(temperature=1, openai_api_key=OPENAI_API_KEY)\n",
    "\n",
    "# Database URI and setup\n",
    "host = '127.0.0.1'\n",
    "port = '3306'\n",
    "username = 'root'\n",
    "password = ''\n",
    "database_schema = 'dasari'\n",
    "mysql_uri = f\"mysql+pymysql://{username}:{password}@{host}:{port}/{database_schema}\"\n",
    "\n",
    "db = SQLDatabase.from_uri(mysql_uri, include_tables=['data_'], sample_rows_in_table_info=13)\n",
    "db_chain = SQLDatabaseChain.from_llm(llm, db, verbose=True)\n",
    "\n",
    "# Initialize the Flask application\n",
    "app = Flask(__name__)\n",
    "cors = CORS(app, resources={r\"/api/*\": {\"origins\": \"http://192.168.1.98:3000\"}})\n",
    "\n",
    "def retrieve_from_db(query: str) -> str:\n",
    "    try:\n",
    "        db_context = db_chain(query)\n",
    "        db_context = db_context['result'].strip()\n",
    "        print(f\"Debug: SQL Query Result - {db_context}\")\n",
    "        return db_context\n",
    "    except Exception as e:\n",
    "        print(f\"Error: {e}\")\n",
    "        return \"An error occurred while retrieving data from the database.\"\n",
    "\n",
    "def generate(query: str) -> str:\n",
    "    db_context = retrieve_from_db(query)\n",
    "    \n",
    "    system_message = \"\"\"You are a professional representative of a financial institution.\n",
    "    You have to answer user's queries and provide relevant information to help them understand their loan eligibility. \n",
    "    Example:\n",
    "    \n",
    "    Input:\n",
    "    What are the criteria for getting a home loan?\n",
    "    \n",
    "    Context:\n",
    "    The criteria for getting a home loan are:\n",
    "    1. A minimum credit score of 650.\n",
    "    2. A stable income for at least 2 years.\n",
    "    3. A debt-to-income ratio below 40%.\n",
    "    \n",
    "    Output:\n",
    "    The criteria for getting a home loan include having a minimum credit score of 650, a stable income for at least 2 years, and a debt-to-income ratio below 40%.\n",
    "    \"\"\"\n",
    "    \n",
    "    human_qry_template = HumanMessagePromptTemplate.from_template(\n",
    "        \"\"\"Input:\n",
    "        {human_input}\n",
    "        \n",
    "        Context:\n",
    "        {db_context}\n",
    "        \n",
    "        Output:\n",
    "        \"\"\"\n",
    "    )\n",
    "    messages = [\n",
    "        SystemMessage(content=system_message),\n",
    "        human_qry_template.format(human_input=query, db_context=db_context)\n",
    "    ]\n",
    "    try:\n",
    "        response = llm(messages).content\n",
    "        print(f\"Debug: LLM Response - {response}\")\n",
    "        return response\n",
    "    except Exception as e:\n",
    "        print(f\"Error: {e}\")\n",
    "        return \"An error occurred while generating the response.\"\n",
    "\n",
    "@app.route('/', methods=['GET'])\n",
    "def home():\n",
    "    return \"Hello World!\"\n",
    "\n",
    "@app.route('/api/query/', methods=['GET', 'POST'])\n",
    "@cross_origin()\n",
    "def get_query_response():\n",
    "    query_input = request.args.get('q')\n",
    "    if not query_input:\n",
    "        return jsonify({\"error\": \"Query parameter 'q' is required.\"}), 400\n",
    "\n",
    "    if query_input.lower() in ['hi', 'hello', 'hey']:\n",
    "        return jsonify({\"response\": \"Hello! How can I assist you with information about our financial institution?\"})\n",
    "\n",
    "    response_data = generate(query_input)\n",
    "    return jsonify({\"response\": response_data})\n",
    "\n",
    "if __name__ == '__main__':\n",
    "    app.run(debug=False, host='127.0.0.1', port=5000)\n"
   ]
  },
  {
   "cell_type": "code",
   "execution_count": null,
   "id": "34e6f01d",
   "metadata": {},
   "outputs": [],
   "source": []
  }
 ],
 "metadata": {
  "kernelspec": {
   "display_name": "Python 3 (ipykernel)",
   "language": "python",
   "name": "python3"
  },
  "language_info": {
   "codemirror_mode": {
    "name": "ipython",
    "version": 3
   },
   "file_extension": ".py",
   "mimetype": "text/x-python",
   "name": "python",
   "nbconvert_exporter": "python",
   "pygments_lexer": "ipython3",
   "version": "3.9.13"
  }
 },
 "nbformat": 4,
 "nbformat_minor": 5
}
